{
 "cells": [
  {
   "cell_type": "code",
   "execution_count": 16,
   "id": "c1160494",
   "metadata": {},
   "outputs": [
    {
     "name": "stdout",
     "output_type": "stream",
     "text": [
      "I know python for 50%.\n",
      "I know string for 100%.\n"
     ]
    }
   ],
   "source": [
    "x=50\n",
    "y=100\n",
    "a='python'\n",
    "b='string'\n",
    " \n",
    "print('I know %s for %s%%.' % (a,x))\n",
    "print('I know %s for %s%%.' % (b,y))\n",
    "\n"
   ]
  },
  {
   "cell_type": "code",
   "execution_count": 22,
   "id": "26add48b",
   "metadata": {},
   "outputs": [
    {
     "name": "stdout",
     "output_type": "stream",
     "text": [
      "I know python for 50%.\n",
      "I know string for 100% \n",
      "I know python for 50%.\n",
      "I know string for 100%.\n"
     ]
    }
   ],
   "source": [
    "x=50\n",
    "y=100\n",
    "a='python'\n",
    "b='string'\n",
    "\n",
    "print('I know {} for {}%.'.format(a,x))\n",
    "print('I know {} for {}% '.format(b,y))\n",
    "\n",
    "print(f\"I know {a} for {x}%.\")\n",
    "print(f\"I know {b} for {y}%.\")"
   ]
  },
  {
   "cell_type": "code",
   "execution_count": 34,
   "id": "a9c07567",
   "metadata": {},
   "outputs": [
    {
     "data": {
      "text/plain": [
       "'==python=='"
      ]
     },
     "execution_count": 34,
     "metadata": {},
     "output_type": "execute_result"
    }
   ],
   "source": [
    "\n",
    "'{0:=>10}'.format(\"python\")\n",
    "'{0:=<10}'.format(\"python\")\n",
    "'{0:=^10}'.format(\"python\")"
   ]
  },
  {
   "cell_type": "code",
   "execution_count": 47,
   "id": "54117a42",
   "metadata": {},
   "outputs": [
    {
     "name": "stdout",
     "output_type": "stream",
     "text": [
      "p-y-t-h-o-n\n",
      "PYTHON\n",
      "I love python\n"
     ]
    }
   ],
   "source": [
    "a=\"python\"\n",
    "b=\"I love coding\"\n",
    "\n",
    "print(\"-\".join(a))\n",
    "print(a.upper())\n",
    "print(b.replace('coding',a))"
   ]
  },
  {
   "cell_type": "code",
   "execution_count": 51,
   "id": "d0c2352b",
   "metadata": {},
   "outputs": [
    {
     "name": "stdout",
     "output_type": "stream",
     "text": [
      "[1, 2, ['life,is']]\n"
     ]
    }
   ],
   "source": [
    "b=[1,2,3]\n",
    "e=[1,2,['life,is']]\n",
    "print(e)\n"
   ]
  },
  {
   "cell_type": "code",
   "execution_count": 52,
   "id": "b6c5fb08",
   "metadata": {},
   "outputs": [
    {
     "data": {
      "text/plain": [
       "3"
      ]
     },
     "execution_count": 52,
     "metadata": {},
     "output_type": "execute_result"
    }
   ],
   "source": [
    "b=[1,2,3]\n",
    "b[2]"
   ]
  },
  {
   "cell_type": "code",
   "execution_count": 54,
   "id": "65c39fc5",
   "metadata": {},
   "outputs": [
    {
     "data": {
      "text/plain": [
       "'a'"
      ]
     },
     "execution_count": 54,
     "metadata": {},
     "output_type": "execute_result"
    }
   ],
   "source": [
    "a=[1,2,3,['a','b','c']]\n",
    "a[3][0]\n"
   ]
  },
  {
   "cell_type": "code",
   "execution_count": 61,
   "id": "ce18ff20",
   "metadata": {},
   "outputs": [
    {
     "data": {
      "text/plain": [
       "'life'"
      ]
     },
     "execution_count": 61,
     "metadata": {},
     "output_type": "execute_result"
    }
   ],
   "source": [
    "a=[1,2,['a','b',['life','is']]]\n",
    "a[2][2][0]"
   ]
  },
  {
   "cell_type": "code",
   "execution_count": 66,
   "id": "45b6dae4",
   "metadata": {},
   "outputs": [
    {
     "name": "stdout",
     "output_type": "stream",
     "text": [
      "1\n",
      "2\n",
      "3\n",
      "4\n",
      "5\n",
      "6\n",
      "7\n",
      "8\n",
      "9\n",
      "10\n"
     ]
    }
   ],
   "source": [
    "x=[1,2,3,4,5]\n",
    "print(x[0])\n",
    "print(x[1])\n",
    "print(x[2])\n",
    "print(x[3])\n",
    "print(x[4])\n",
    "print(x[4]+x[0])\n",
    "print(x[4]+x[1])\n",
    "print(x[4]+x[2])\n",
    "print(x[4]+x[3])\n",
    "print(x[4]+x[4])"
   ]
  },
  {
   "cell_type": "code",
   "execution_count": 67,
   "id": "c4ebc6ed",
   "metadata": {},
   "outputs": [
    {
     "data": {
      "text/plain": [
       "5"
      ]
     },
     "execution_count": 67,
     "metadata": {},
     "output_type": "execute_result"
    }
   ],
   "source": [
    "x=[1,2,3,4,5]\n",
    "len(x)"
   ]
  },
  {
   "cell_type": "code",
   "execution_count": 74,
   "id": "67067ab2",
   "metadata": {},
   "outputs": [
    {
     "name": "stdout",
     "output_type": "stream",
     "text": [
      "3\n"
     ]
    }
   ],
   "source": [
    "a=[1,2,3,['a','b','c']]\n",
    "\n",
    "\n",
    "\n",
    "print(len(a[3]))"
   ]
  },
  {
   "cell_type": "code",
   "execution_count": 77,
   "id": "59c787bb",
   "metadata": {},
   "outputs": [
    {
     "data": {
      "text/plain": [
       "'3hi'"
      ]
     },
     "execution_count": 77,
     "metadata": {},
     "output_type": "execute_result"
    }
   ],
   "source": [
    "a=[1,2,3]\n",
    "str(a[2])+'hi'"
   ]
  },
  {
   "cell_type": "code",
   "execution_count": 81,
   "id": "3035603a",
   "metadata": {},
   "outputs": [
    {
     "data": {
      "text/plain": [
       "[1, 2, 4]"
      ]
     },
     "execution_count": 81,
     "metadata": {},
     "output_type": "execute_result"
    }
   ],
   "source": [
    "a=[1,2,3]\n",
    "a[2]=4\n",
    "a"
   ]
  },
  {
   "cell_type": "code",
   "execution_count": 82,
   "id": "6e378cc7",
   "metadata": {},
   "outputs": [
    {
     "data": {
      "text/plain": [
       "[1, 3]"
      ]
     },
     "execution_count": 82,
     "metadata": {},
     "output_type": "execute_result"
    }
   ],
   "source": [
    "a=[1,2,3]\n",
    "del a[1]\n",
    "a"
   ]
  },
  {
   "cell_type": "code",
   "execution_count": 84,
   "id": "08bcebab",
   "metadata": {},
   "outputs": [
    {
     "data": {
      "text/plain": [
       "[1, 2]"
      ]
     },
     "execution_count": 84,
     "metadata": {},
     "output_type": "execute_result"
    }
   ],
   "source": [
    "a=[1,2,3,4,5]\n",
    "del a[2:]\n",
    "a"
   ]
  },
  {
   "cell_type": "code",
   "execution_count": 86,
   "id": "c8d3f039",
   "metadata": {},
   "outputs": [
    {
     "data": {
      "text/plain": [
       "[1, 2, 3, 'python']"
      ]
     },
     "execution_count": 86,
     "metadata": {},
     "output_type": "execute_result"
    }
   ],
   "source": [
    "a=[1,2,3]\n",
    "a.append('python')\n",
    "a"
   ]
  },
  {
   "cell_type": "code",
   "execution_count": 87,
   "id": "85c6b8de",
   "metadata": {},
   "outputs": [
    {
     "data": {
      "text/plain": [
       "[1, 2, 3, 5, 7, 9]"
      ]
     },
     "execution_count": 87,
     "metadata": {},
     "output_type": "execute_result"
    }
   ],
   "source": [
    "a=[1,2,3,9,7,5]\n",
    "a.sort()\n",
    "a"
   ]
  },
  {
   "cell_type": "code",
   "execution_count": 93,
   "id": "73a189c3",
   "metadata": {},
   "outputs": [
    {
     "data": {
      "text/plain": [
       "['c', 'b', 'a']"
      ]
     },
     "execution_count": 93,
     "metadata": {},
     "output_type": "execute_result"
    }
   ],
   "source": [
    "a=['a','c','b']\n",
    "a.sort()\n",
    "a.reverse()\n",
    "a"
   ]
  },
  {
   "cell_type": "code",
   "execution_count": 96,
   "id": "55be795e",
   "metadata": {},
   "outputs": [
    {
     "data": {
      "text/plain": [
       "1"
      ]
     },
     "execution_count": 96,
     "metadata": {},
     "output_type": "execute_result"
    }
   ],
   "source": [
    "a=[1,2,3]\n",
    "a.index(2)"
   ]
  },
  {
   "cell_type": "code",
   "execution_count": 98,
   "id": "edf1b2c7",
   "metadata": {},
   "outputs": [
    {
     "ename": "ValueError",
     "evalue": "3 is not in list",
     "output_type": "error",
     "traceback": [
      "\u001b[0;31m---------------------------------------------------------------------------\u001b[0m",
      "\u001b[0;31mValueError\u001b[0m                                Traceback (most recent call last)",
      "\u001b[0;32m/var/folders/sr/g0qgshfd30x2nrv9gpq1mggc0000gn/T/ipykernel_18067/2249750654.py\u001b[0m in \u001b[0;36m<module>\u001b[0;34m\u001b[0m\n\u001b[1;32m      1\u001b[0m \u001b[0ma\u001b[0m\u001b[0;34m=\u001b[0m\u001b[0;34m[\u001b[0m\u001b[0;36m1\u001b[0m\u001b[0;34m,\u001b[0m\u001b[0;36m2\u001b[0m\u001b[0;34m,\u001b[0m\u001b[0;34m[\u001b[0m\u001b[0;36m3\u001b[0m\u001b[0;34m]\u001b[0m\u001b[0;34m]\u001b[0m\u001b[0;34m\u001b[0m\u001b[0;34m\u001b[0m\u001b[0m\n\u001b[0;32m----> 2\u001b[0;31m \u001b[0ma\u001b[0m\u001b[0;34m.\u001b[0m\u001b[0mindex\u001b[0m\u001b[0;34m(\u001b[0m\u001b[0;36m3\u001b[0m\u001b[0;34m)\u001b[0m\u001b[0;34m\u001b[0m\u001b[0;34m\u001b[0m\u001b[0m\n\u001b[0m",
      "\u001b[0;31mValueError\u001b[0m: 3 is not in list"
     ]
    }
   ],
   "source": [
    "a=[1,2,[3]]\n",
    "a.index(3)"
   ]
  },
  {
   "cell_type": "code",
   "execution_count": 103,
   "id": "bb1c849b",
   "metadata": {},
   "outputs": [
    {
     "data": {
      "text/plain": [
       "[1, 2, 3, 5]"
      ]
     },
     "execution_count": 103,
     "metadata": {},
     "output_type": "execute_result"
    }
   ],
   "source": [
    "a=[1,2,3]\n",
    "a.insert(5,5)\n",
    "a"
   ]
  },
  {
   "cell_type": "code",
   "execution_count": 107,
   "id": "091bf25e",
   "metadata": {},
   "outputs": [
    {
     "data": {
      "text/plain": [
       "[1, 2, 9, 7, 5]"
      ]
     },
     "execution_count": 107,
     "metadata": {},
     "output_type": "execute_result"
    }
   ],
   "source": [
    "a=[1,2,3,9,7,5,3]\n",
    "a.remove(3)\n",
    "a.remove(3)\n",
    "a\n"
   ]
  },
  {
   "cell_type": "code",
   "execution_count": 122,
   "id": "86705a5e",
   "metadata": {},
   "outputs": [
    {
     "data": {
      "text/plain": [
       "[1, 2]"
      ]
     },
     "execution_count": 122,
     "metadata": {},
     "output_type": "execute_result"
    }
   ],
   "source": [
    "x=[1,2,[3],3,'3']\n",
    "x.remove(3)\n",
    "x.remove([3])\n",
    "x.remove('3')\n",
    "x\n"
   ]
  },
  {
   "cell_type": "code",
   "execution_count": 124,
   "id": "5f28d879",
   "metadata": {},
   "outputs": [
    {
     "data": {
      "text/plain": [
       "[1, 2]"
      ]
     },
     "execution_count": 124,
     "metadata": {},
     "output_type": "execute_result"
    }
   ],
   "source": [
    "x=[1,2,[3],3,'3']\n",
    "x.pop()\n",
    "x.pop()\n",
    "x.pop()\n",
    "x\n"
   ]
  },
  {
   "cell_type": "code",
   "execution_count": 126,
   "id": "1ec7f296",
   "metadata": {},
   "outputs": [
    {
     "data": {
      "text/plain": [
       "'3'"
      ]
     },
     "execution_count": 126,
     "metadata": {},
     "output_type": "execute_result"
    }
   ],
   "source": [
    "x=[1,2,[3],3,'3']\n",
    "y=x.pop(4)\n",
    "y"
   ]
  },
  {
   "cell_type": "code",
   "execution_count": 132,
   "id": "80128ab3",
   "metadata": {},
   "outputs": [
    {
     "data": {
      "text/plain": [
       "[1, 2, 3, 4, 5]"
      ]
     },
     "execution_count": 132,
     "metadata": {},
     "output_type": "execute_result"
    }
   ],
   "source": [
    "a=[1,2,3]\n",
    "a.extend([4,5])\n",
    "a"
   ]
  },
  {
   "cell_type": "code",
   "execution_count": 130,
   "id": "027a350c",
   "metadata": {},
   "outputs": [
    {
     "data": {
      "text/plain": [
       "[1, 2, 3, 4, 5]"
      ]
     },
     "execution_count": 130,
     "metadata": {},
     "output_type": "execute_result"
    }
   ],
   "source": [
    "a=[1,2,3]\n",
    "a+[4,5]\n"
   ]
  },
  {
   "cell_type": "code",
   "execution_count": 141,
   "id": "17b27331",
   "metadata": {},
   "outputs": [
    {
     "data": {
      "text/plain": [
       "1"
      ]
     },
     "execution_count": 141,
     "metadata": {},
     "output_type": "execute_result"
    }
   ],
   "source": [
    "x=1\n",
    "x+=1\n",
    "x\n",
    "x-=1\n",
    "x\n",
    "x*=1\n",
    "x\n",
    "x=+1\n",
    "x"
   ]
  },
  {
   "cell_type": "code",
   "execution_count": 143,
   "id": "594b2a79",
   "metadata": {},
   "outputs": [
    {
     "data": {
      "text/plain": [
       "'l'"
      ]
     },
     "execution_count": 143,
     "metadata": {},
     "output_type": "execute_result"
    }
   ],
   "source": [
    "a=[1,2,['a','b',['life','is']]]\n",
    "a[2][2][0][0]"
   ]
  }
 ],
 "metadata": {
  "kernelspec": {
   "display_name": "Python 3 (ipykernel)",
   "language": "python",
   "name": "python3"
  },
  "language_info": {
   "codemirror_mode": {
    "name": "ipython",
    "version": 3
   },
   "file_extension": ".py",
   "mimetype": "text/x-python",
   "name": "python",
   "nbconvert_exporter": "python",
   "pygments_lexer": "ipython3",
   "version": "3.9.7"
  }
 },
 "nbformat": 4,
 "nbformat_minor": 5
}
