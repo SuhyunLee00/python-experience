{
 "cells": [
  {
   "cell_type": "code",
   "execution_count": 9,
   "id": "591ea3ef",
   "metadata": {},
   "outputs": [
    {
     "data": {
      "text/plain": [
       "'nohtyp'"
      ]
     },
     "execution_count": 9,
     "metadata": {},
     "output_type": "execute_result"
    }
   ],
   "source": [
    "x='python'\n",
    "x[5]+x[4]+x[3]+x[2]+x[1]+x[0]\n"
   ]
  },
  {
   "cell_type": "code",
   "execution_count": 18,
   "id": "12764c76",
   "metadata": {},
   "outputs": [
    {
     "name": "stdout",
     "output_type": "stream",
     "text": [
      "2022\n",
      "03\n",
      "15\n"
     ]
    }
   ],
   "source": [
    "x='20220315'\n",
    "print(x[0:4])\n",
    "print(x[4:6])\n",
    "print(x[6:8])"
   ]
  },
  {
   "cell_type": "code",
   "execution_count": 27,
   "id": "c65c4928",
   "metadata": {},
   "outputs": [
    {
     "name": "stdout",
     "output_type": "stream",
     "text": [
      "I know string for 50%\n"
     ]
    }
   ],
   "source": [
    "x='I know %s for %d%%' % (\"string\", 50)\n",
    "\n",
    "print(x)"
   ]
  },
  {
   "cell_type": "code",
   "execution_count": 28,
   "id": "a2c4deb2",
   "metadata": {},
   "outputs": [
    {
     "name": "stdout",
     "output_type": "stream",
     "text": [
      "I know string for 100%\n"
     ]
    }
   ],
   "source": [
    "x='I know %s for %d%%' % (\"string\", 100)\n",
    "\n",
    "print(x)\n"
   ]
  },
  {
   "cell_type": "code",
   "execution_count": 34,
   "id": "155a4b3e",
   "metadata": {},
   "outputs": [
    {
     "name": "stdout",
     "output_type": "stream",
     "text": [
      "stringhi                  string\n"
     ]
    }
   ],
   "source": [
    "x=\"string%-20sstring\" % (\"hi\")\n",
    "\n",
    "print(x)"
   ]
  },
  {
   "cell_type": "code",
   "execution_count": 45,
   "id": "27aae476",
   "metadata": {},
   "outputs": [
    {
     "name": "stdout",
     "output_type": "stream",
     "text": [
      "string0.1234567890\n"
     ]
    }
   ],
   "source": [
    "x=\"string%10.10f\" % (0.1234567890)\n",
    "\n",
    "print(x)"
   ]
  },
  {
   "cell_type": "code",
   "execution_count": 47,
   "id": "8a8a4f79",
   "metadata": {},
   "outputs": [
    {
     "name": "stdout",
     "output_type": "stream",
     "text": [
      "I eat 3 apples\n"
     ]
    }
   ],
   "source": [
    "x='I eat {} apples'.format(3)\n",
    "print(x)"
   ]
  },
  {
   "cell_type": "code",
   "execution_count": 55,
   "id": "6b3157fd",
   "metadata": {},
   "outputs": [
    {
     "ename": "IndexError",
     "evalue": "Replacement index 2 out of range for positional args tuple",
     "output_type": "error",
     "traceback": [
      "\u001b[0;31m---------------------------------------------------------------------------\u001b[0m",
      "\u001b[0;31mIndexError\u001b[0m                                Traceback (most recent call last)",
      "\u001b[0;32m/var/folders/sr/g0qgshfd30x2nrv9gpq1mggc0000gn/T/ipykernel_8879/3512765215.py\u001b[0m in \u001b[0;36m<module>\u001b[0;34m\u001b[0m\n\u001b[0;32m----> 1\u001b[0;31m \u001b[0mx\u001b[0m\u001b[0;34m=\u001b[0m\u001b[0;34m'{}y{}m{}d'\u001b[0m\u001b[0;34m.\u001b[0m\u001b[0mformat\u001b[0m\u001b[0;34m(\u001b[0m\u001b[0;36m2022\u001b[0m\u001b[0;34m,\u001b[0m\u001b[0;36m3\u001b[0m\u001b[0;34m)\u001b[0m\u001b[0;34m\u001b[0m\u001b[0;34m\u001b[0m\u001b[0m\n\u001b[0m\u001b[1;32m      2\u001b[0m \u001b[0mprint\u001b[0m\u001b[0;34m(\u001b[0m\u001b[0mx\u001b[0m\u001b[0;34m)\u001b[0m\u001b[0;34m\u001b[0m\u001b[0;34m\u001b[0m\u001b[0m\n",
      "\u001b[0;31mIndexError\u001b[0m: Replacement index 2 out of range for positional args tuple"
     ]
    }
   ],
   "source": [
    "x='{}y{}m{}d'.format(2022,3)\n",
    "print(x)"
   ]
  },
  {
   "cell_type": "code",
   "execution_count": 61,
   "id": "96214d36",
   "metadata": {},
   "outputs": [
    {
     "name": "stdout",
     "output_type": "stream",
     "text": [
      "I ate 10 apples. so I was sick for 3 days.\n"
     ]
    }
   ],
   "source": [
    "x='I ate {0} apples. so I was sick for {1} days.'.format(10,3)\n",
    "print(x)"
   ]
  },
  {
   "cell_type": "code",
   "execution_count": 15,
   "id": "22ad64c8",
   "metadata": {},
   "outputs": [
    {
     "ename": "KeyError",
     "evalue": "'number'",
     "output_type": "error",
     "traceback": [
      "\u001b[0;31m---------------------------------------------------------------------------\u001b[0m",
      "\u001b[0;31mKeyError\u001b[0m                                  Traceback (most recent call last)",
      "\u001b[0;32m/var/folders/sr/g0qgshfd30x2nrv9gpq1mggc0000gn/T/ipykernel_12050/2640998100.py\u001b[0m in \u001b[0;36m<module>\u001b[0;34m\u001b[0m\n\u001b[1;32m      1\u001b[0m \u001b[0mnumber\u001b[0m\u001b[0;34m=\u001b[0m\u001b[0;36m10\u001b[0m\u001b[0;34m\u001b[0m\u001b[0;34m\u001b[0m\u001b[0m\n\u001b[1;32m      2\u001b[0m \u001b[0mnumbers\u001b[0m\u001b[0;34m=\u001b[0m\u001b[0;36m3\u001b[0m\u001b[0;34m\u001b[0m\u001b[0;34m\u001b[0m\u001b[0m\n\u001b[0;32m----> 3\u001b[0;31m \u001b[0mx\u001b[0m\u001b[0;34m=\u001b[0m\u001b[0;34m'I ate {number} apples. so I was sick for {numbers} days.'\u001b[0m\u001b[0;34m.\u001b[0m\u001b[0mformat\u001b[0m\u001b[0;34m(\u001b[0m\u001b[0mnumber\u001b[0m\u001b[0;34m,\u001b[0m\u001b[0mnumbers\u001b[0m\u001b[0;34m)\u001b[0m\u001b[0;34m\u001b[0m\u001b[0;34m\u001b[0m\u001b[0m\n\u001b[0m\u001b[1;32m      4\u001b[0m \u001b[0mprint\u001b[0m\u001b[0;34m(\u001b[0m\u001b[0mx\u001b[0m\u001b[0;34m)\u001b[0m\u001b[0;34m\u001b[0m\u001b[0;34m\u001b[0m\u001b[0m\n",
      "\u001b[0;31mKeyError\u001b[0m: 'number'"
     ]
    }
   ],
   "source": [
    "number=10\n",
    "numbers=3\n",
    "x='I ate {number} apples. so I was sick for {numbers} days.''\n",
    "print(x)"
   ]
  },
  {
   "cell_type": "code",
   "execution_count": 43,
   "id": "df75fd2d",
   "metadata": {},
   "outputs": [
    {
     "data": {
      "text/plain": [
       "'1111101111'"
      ]
     },
     "execution_count": 43,
     "metadata": {},
     "output_type": "execute_result"
    }
   ],
   "source": [
    "\"{:1^10}\".format(10)"
   ]
  },
  {
   "cell_type": "code",
   "execution_count": 53,
   "id": "5dcb4d59",
   "metadata": {},
   "outputs": [
    {
     "data": {
      "text/plain": [
       "'    1.1231'"
      ]
     },
     "execution_count": 53,
     "metadata": {},
     "output_type": "execute_result"
    }
   ],
   "source": [
    "y=1.12312456357586\n",
    "\"{:10.4f}\".format(y)\n"
   ]
  },
  {
   "cell_type": "code",
   "execution_count": 40,
   "id": "bfcbf7e7",
   "metadata": {},
   "outputs": [
    {
     "data": {
      "text/plain": [
       "'ny name is korean. my age is 31'"
      ]
     },
     "execution_count": 40,
     "metadata": {},
     "output_type": "execute_result"
    }
   ],
   "source": [
    "name=\"korean\"\n",
    "age=30\n",
    "\n",
    "f\"ny name is {name}. my age is {age+1}\""
   ]
  },
  {
   "cell_type": "code",
   "execution_count": 48,
   "id": "6da03e74",
   "metadata": {},
   "outputs": [
    {
     "data": {
      "text/plain": [
       "'hi!!!!!!!!'"
      ]
     },
     "execution_count": 48,
     "metadata": {},
     "output_type": "execute_result"
    }
   ],
   "source": [
    "f'{\"hi\":!<10}'"
   ]
  },
  {
   "cell_type": "code",
   "execution_count": 52,
   "id": "812db607",
   "metadata": {},
   "outputs": [
    {
     "data": {
      "text/plain": [
       "'    1.1231'"
      ]
     },
     "execution_count": 52,
     "metadata": {},
     "output_type": "execute_result"
    }
   ],
   "source": [
    "y=1.12312456357586\n",
    "f\"{y:10.4f}\"\n"
   ]
  },
  {
   "cell_type": "code",
   "execution_count": 57,
   "id": "d016e197",
   "metadata": {},
   "outputs": [
    {
     "data": {
      "text/plain": [
       "'{and}'"
      ]
     },
     "execution_count": 57,
     "metadata": {},
     "output_type": "execute_result"
    }
   ],
   "source": [
    "f'{{and}}'"
   ]
  },
  {
   "cell_type": "code",
   "execution_count": 62,
   "id": "2e5b2ade",
   "metadata": {},
   "outputs": [
    {
     "data": {
      "text/plain": [
       "2"
      ]
     },
     "execution_count": 62,
     "metadata": {},
     "output_type": "execute_result"
    }
   ],
   "source": [
    "a= \"I wanted to go Harvard UnviersiTy\"\n",
    "a.count('t')"
   ]
  },
  {
   "cell_type": "code",
   "execution_count": 63,
   "id": "6bd68178",
   "metadata": {},
   "outputs": [
    {
     "data": {
      "text/plain": [
       "5"
      ]
     },
     "execution_count": 63,
     "metadata": {},
     "output_type": "execute_result"
    }
   ],
   "source": [
    "a= \"I wanted to go Harvard UnviersiTy\"\n",
    "a.index('t')"
   ]
  },
  {
   "cell_type": "code",
   "execution_count": 67,
   "id": "ac579988",
   "metadata": {},
   "outputs": [
    {
     "data": {
      "text/plain": [
       "'aasdbasdcasdd'"
      ]
     },
     "execution_count": 67,
     "metadata": {},
     "output_type": "execute_result"
    }
   ],
   "source": [
    "\"asd\".join('abcd')"
   ]
  },
  {
   "cell_type": "code",
   "execution_count": 68,
   "id": "c3069086",
   "metadata": {},
   "outputs": [
    {
     "data": {
      "text/plain": [
       "'HI'"
      ]
     },
     "execution_count": 68,
     "metadata": {},
     "output_type": "execute_result"
    }
   ],
   "source": [
    "\n",
    "\"Hi\".upper()\n"
   ]
  },
  {
   "cell_type": "code",
   "execution_count": 73,
   "id": "6cfd0963",
   "metadata": {},
   "outputs": [
    {
     "data": {
      "text/plain": [
       "'hi'"
      ]
     },
     "execution_count": 73,
     "metadata": {},
     "output_type": "execute_result"
    }
   ],
   "source": [
    "\" hi \".strip()"
   ]
  },
  {
   "cell_type": "code",
   "execution_count": 78,
   "id": "59a48f7c",
   "metadata": {},
   "outputs": [
    {
     "data": {
      "text/plain": [
       "'l10fe 10s too short, l10fe'"
      ]
     },
     "execution_count": 78,
     "metadata": {},
     "output_type": "execute_result"
    }
   ],
   "source": [
    "\"life is too short, life\".replace(\"i\",\"10\")"
   ]
  },
  {
   "cell_type": "code",
   "execution_count": 82,
   "id": "da666c06",
   "metadata": {},
   "outputs": [
    {
     "data": {
      "text/plain": [
       "['l', 'fe ', 's too short, l', 'fe']"
      ]
     },
     "execution_count": 82,
     "metadata": {},
     "output_type": "execute_result"
    }
   ],
   "source": [
    "\"life is too short, life\".split('i')"
   ]
  }
 ],
 "metadata": {
  "kernelspec": {
   "display_name": "Python 3 (ipykernel)",
   "language": "python",
   "name": "python3"
  },
  "language_info": {
   "codemirror_mode": {
    "name": "ipython",
    "version": 3
   },
   "file_extension": ".py",
   "mimetype": "text/x-python",
   "name": "python",
   "nbconvert_exporter": "python",
   "pygments_lexer": "ipython3",
   "version": "3.9.7"
  }
 },
 "nbformat": 4,
 "nbformat_minor": 5
}
