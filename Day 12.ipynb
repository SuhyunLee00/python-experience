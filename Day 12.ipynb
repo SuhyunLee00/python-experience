{
 "cells": [
  {
   "cell_type": "code",
   "execution_count": 11,
   "id": "8050afb1",
   "metadata": {},
   "outputs": [
    {
     "name": "stdout",
     "output_type": "stream",
     "text": [
      "바위\n",
      "가위\n",
      "이겼습니다\n",
      "1\n",
      "바위\n",
      "바위\n",
      "비겼습니다\n",
      "1\n",
      "{1: ('가위', '바위')}\n"
     ]
    }
   ],
   "source": [
    "import random\n",
    "\n",
    "a=0\n",
    "b={}\n",
    "\n",
    "while True:\n",
    "    computer= random.choice(['가위','바위','보'])\n",
    "    user= input()\n",
    "    print(computer)\n",
    "\n",
    "    if computer==user:\n",
    "        print('비겼습니다')\n",
    "        break\n",
    "    elif (user=='가위' and computer=='보')or \\\n",
    "        (user=='바위' and computer=='가위') or \\\n",
    "        (user=='보' and computer=='바위'):\n",
    "        print('이겼습니다')\n",
    "        a=a+1 \n",
    "        b[a]=(computer,user)\n",
    "        print(a)\n",
    "    else:\n",
    "        print('졋습니다')\n",
    "        break     \n",
    "print(a)\n",
    "print(b)\n",
    "\n",
    "\n"
   ]
  },
  {
   "cell_type": "code",
   "execution_count": 41,
   "id": "0bff2c03",
   "metadata": {},
   "outputs": [],
   "source": [
    "class FourCal:\n",
    "    def setdata(self, first, second):\n",
    "        self.first= first\n",
    "        self.second= second\n",
    "    def add(self):\n",
    "        result = self.first+self.second\n",
    "        return result\n",
    "    \n"
   ]
  },
  {
   "cell_type": "code",
   "execution_count": 49,
   "id": "71f1602b",
   "metadata": {},
   "outputs": [],
   "source": [
    "a= FourCal()\n",
    "a.setdata(7,2)\n",
    "\n"
   ]
  },
  {
   "cell_type": "code",
   "execution_count": 50,
   "id": "99f6576c",
   "metadata": {},
   "outputs": [
    {
     "name": "stdout",
     "output_type": "stream",
     "text": [
      "9\n"
     ]
    }
   ],
   "source": [
    "print(a.add())"
   ]
  },
  {
   "cell_type": "code",
   "execution_count": 67,
   "id": "949f304c",
   "metadata": {},
   "outputs": [],
   "source": [
    "class FourCal:\n",
    "    def __init__(self, first, second):\n",
    "        self.first= first\n",
    "        self.second= second\n",
    "    def add(self):\n",
    "        result = self.first+self.second\n",
    "        return result\n",
    "    def div(self):\n",
    "        result = self.first/self.second\n",
    "        return result"
   ]
  },
  {
   "cell_type": "code",
   "execution_count": 53,
   "id": "14808b77",
   "metadata": {},
   "outputs": [],
   "source": [
    "b=FourCal(7,2)"
   ]
  },
  {
   "cell_type": "code",
   "execution_count": 56,
   "id": "bdc65824",
   "metadata": {},
   "outputs": [
    {
     "data": {
      "text/plain": [
       "12"
      ]
     },
     "execution_count": 56,
     "metadata": {},
     "output_type": "execute_result"
    }
   ],
   "source": [
    "b.add()"
   ]
  },
  {
   "cell_type": "code",
   "execution_count": 55,
   "id": "b59663cf",
   "metadata": {},
   "outputs": [],
   "source": [
    "b.first=10"
   ]
  },
  {
   "cell_type": "code",
   "execution_count": 69,
   "id": "1a55220a",
   "metadata": {},
   "outputs": [],
   "source": [
    "class MoreFourCal(FourCal):\n",
    "    def pow(self):\n",
    "        result = self.first ** self.second\n",
    "        return result\n",
    "    def div(self):\n",
    "        if self.second == 0:\n",
    "            return 0\n",
    "        else:\n",
    "            return self.first/ self.second"
   ]
  },
  {
   "cell_type": "code",
   "execution_count": 72,
   "id": "a493ebd7",
   "metadata": {},
   "outputs": [],
   "source": [
    "c=MoreFourCal(4,0)"
   ]
  },
  {
   "cell_type": "code",
   "execution_count": 65,
   "id": "b02667dd",
   "metadata": {},
   "outputs": [
    {
     "data": {
      "text/plain": [
       "16"
      ]
     },
     "execution_count": 65,
     "metadata": {},
     "output_type": "execute_result"
    }
   ],
   "source": [
    "c.pow()"
   ]
  },
  {
   "cell_type": "code",
   "execution_count": 73,
   "id": "ab8bba13",
   "metadata": {},
   "outputs": [
    {
     "data": {
      "text/plain": [
       "0"
      ]
     },
     "execution_count": 73,
     "metadata": {},
     "output_type": "execute_result"
    }
   ],
   "source": [
    "c.div()"
   ]
  }
 ],
 "metadata": {
  "kernelspec": {
   "display_name": "Python 3 (ipykernel)",
   "language": "python",
   "name": "python3"
  },
  "language_info": {
   "codemirror_mode": {
    "name": "ipython",
    "version": 3
   },
   "file_extension": ".py",
   "mimetype": "text/x-python",
   "name": "python",
   "nbconvert_exporter": "python",
   "pygments_lexer": "ipython3",
   "version": "3.9.7"
  }
 },
 "nbformat": 4,
 "nbformat_minor": 5
}
