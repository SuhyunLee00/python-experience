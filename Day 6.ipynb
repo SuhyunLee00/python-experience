{
 "cells": [
  {
   "cell_type": "code",
   "execution_count": 5,
   "id": "4b5b76bf",
   "metadata": {},
   "outputs": [
    {
     "name": "stdout",
     "output_type": "stream",
     "text": [
      "1\n",
      "a\n",
      "life\n",
      "is\n",
      "s\n"
     ]
    }
   ],
   "source": [
    "a=[1,2,['a','b',['life','is']]]\n",
    "\n",
    "print(a[0])\n",
    "\n",
    "print(a[2][0])\n",
    "print(a[2][2][0])\n",
    "print(a[2][2][1])\n",
    "print(a[2][2][1][1])"
   ]
  },
  {
   "cell_type": "code",
   "execution_count": 16,
   "id": "9fce5ae4",
   "metadata": {},
   "outputs": [
    {
     "name": "stdout",
     "output_type": "stream",
     "text": [
      "[1, 2]\n",
      "[3, 4]\n"
     ]
    },
    {
     "data": {
      "text/plain": [
       "[1, 4, 5]"
      ]
     },
     "execution_count": 16,
     "metadata": {},
     "output_type": "execute_result"
    }
   ],
   "source": [
    "a=[1,2,3,4,5]\n",
    "print(a[:2])\n",
    "print(a[2:4])\n",
    "a.pop(1)\n",
    "a.pop(1)\n",
    "a\n"
   ]
  },
  {
   "cell_type": "code",
   "execution_count": 29,
   "id": "2bfe62d0",
   "metadata": {},
   "outputs": [
    {
     "data": {
      "text/plain": [
       "[1, 2, 30, 5]"
      ]
     },
     "execution_count": 29,
     "metadata": {},
     "output_type": "execute_result"
    }
   ],
   "source": [
    "a=[1,2,3,4,5]\n",
    "del a[3]\n",
    "a[2]=30\n",
    "a\n"
   ]
  },
  {
   "cell_type": "code",
   "execution_count": 60,
   "id": "65da2fd8",
   "metadata": {},
   "outputs": [
    {
     "data": {
      "text/plain": [
       "10"
      ]
     },
     "execution_count": 60,
     "metadata": {},
     "output_type": "execute_result"
    }
   ],
   "source": [
    "a=[1,2,3,4,5]\n",
    "b=['b','a','c','d']\n",
    "a.append (6)\n",
    "\n",
    "\n",
    "# b.sort()\n",
    "# b.reverse()\n",
    "b\n",
    "a.insert(0, b.pop())\n",
    "a\n",
    "len(a+b)"
   ]
  },
  {
   "cell_type": "code",
   "execution_count": 69,
   "id": "ab91e6b2",
   "metadata": {},
   "outputs": [
    {
     "data": {
      "text/plain": [
       "2"
      ]
     },
     "execution_count": 69,
     "metadata": {},
     "output_type": "execute_result"
    }
   ],
   "source": [
    "t1=1,2,3,4,5\n",
    "t2='a','b'\n",
    "\n",
    "t1[0]\n",
    "t1[:-1]\n",
    "t1+t2\n",
    "t2*3\n",
    "\n",
    "len(t2)"
   ]
  },
  {
   "cell_type": "code",
   "execution_count": 70,
   "id": "2b0789d4",
   "metadata": {},
   "outputs": [
    {
     "ename": "TypeError",
     "evalue": "can only concatenate list (not \"tuple\") to list",
     "output_type": "error",
     "traceback": [
      "\u001b[0;31m---------------------------------------------------------------------------\u001b[0m",
      "\u001b[0;31mTypeError\u001b[0m                                 Traceback (most recent call last)",
      "\u001b[0;32m/var/folders/sr/g0qgshfd30x2nrv9gpq1mggc0000gn/T/ipykernel_19363/1277112822.py\u001b[0m in \u001b[0;36m<module>\u001b[0;34m\u001b[0m\n\u001b[1;32m      1\u001b[0m \u001b[0ma\u001b[0m\u001b[0;34m=\u001b[0m\u001b[0;34m[\u001b[0m\u001b[0;36m1\u001b[0m\u001b[0;34m,\u001b[0m\u001b[0;36m2\u001b[0m\u001b[0;34m]\u001b[0m\u001b[0;34m\u001b[0m\u001b[0;34m\u001b[0m\u001b[0m\n\u001b[1;32m      2\u001b[0m \u001b[0mt1\u001b[0m\u001b[0;34m=\u001b[0m\u001b[0;34m(\u001b[0m\u001b[0;36m3\u001b[0m\u001b[0;34m,\u001b[0m\u001b[0;36m4\u001b[0m\u001b[0;34m)\u001b[0m\u001b[0;34m\u001b[0m\u001b[0;34m\u001b[0m\u001b[0m\n\u001b[0;32m----> 3\u001b[0;31m \u001b[0ma\u001b[0m\u001b[0;34m+\u001b[0m\u001b[0mt1\u001b[0m\u001b[0;34m\u001b[0m\u001b[0;34m\u001b[0m\u001b[0m\n\u001b[0m",
      "\u001b[0;31mTypeError\u001b[0m: can only concatenate list (not \"tuple\") to list"
     ]
    }
   ],
   "source": [
    "a=[1,2]\n",
    "t1=(3,4)\n",
    "a+t1"
   ]
  },
  {
   "cell_type": "code",
   "execution_count": 76,
   "id": "1d41fc72",
   "metadata": {},
   "outputs": [
    {
     "data": {
      "text/plain": [
       "{1: '2', 'name': 'pay'}"
      ]
     },
     "execution_count": 76,
     "metadata": {},
     "output_type": "execute_result"
    }
   ],
   "source": [
    "a={1:'2'}\n",
    "a[2]='b'\n",
    "a\n",
    "a['name']='pay'\n",
    "a\n",
    "del a[2]\n",
    "a\n"
   ]
  },
  {
   "cell_type": "code",
   "execution_count": 77,
   "id": "baeed1d7",
   "metadata": {},
   "outputs": [
    {
     "data": {
      "text/plain": [
       "10"
      ]
     },
     "execution_count": 77,
     "metadata": {},
     "output_type": "execute_result"
    }
   ],
   "source": [
    "lesson= {'pey':10,'julliet':90}\n",
    "lesson['pey']\n"
   ]
  },
  {
   "cell_type": "code",
   "execution_count": 78,
   "id": "52a1a6c7",
   "metadata": {},
   "outputs": [
    {
     "data": {
      "text/plain": [
       "{'pey': 90}"
      ]
     },
     "execution_count": 78,
     "metadata": {},
     "output_type": "execute_result"
    }
   ],
   "source": [
    "lesson= {'pey':10,'pey':90}\n",
    "lesson"
   ]
  },
  {
   "cell_type": "code",
   "execution_count": 80,
   "id": "ddf5205f",
   "metadata": {},
   "outputs": [
    {
     "data": {
      "text/plain": [
       "{(1, 2): 10, 'pey': 90}"
      ]
     },
     "execution_count": 80,
     "metadata": {},
     "output_type": "execute_result"
    }
   ],
   "source": [
    "t1=1,2\n",
    "\n",
    "lesson={t1:10,'pey':90}\n",
    "lesson\n"
   ]
  },
  {
   "cell_type": "code",
   "execution_count": 87,
   "id": "75527ba6",
   "metadata": {},
   "outputs": [
    {
     "data": {
      "text/plain": [
       "[10, 90]"
      ]
     },
     "execution_count": 87,
     "metadata": {},
     "output_type": "execute_result"
    }
   ],
   "source": [
    "lesson= {'pey':10,'Suhyun':90}\n",
    "list(lesson.values())"
   ]
  },
  {
   "cell_type": "code",
   "execution_count": 95,
   "id": "fb247169",
   "metadata": {},
   "outputs": [
    {
     "data": {
      "text/plain": [
       "['pey', 10]"
      ]
     },
     "execution_count": 95,
     "metadata": {},
     "output_type": "execute_result"
    }
   ],
   "source": [
    "lesson= {'pey':10,'Suhyun':90}\n",
    "list(list(lesson.items())[0])\n"
   ]
  },
  {
   "cell_type": "code",
   "execution_count": 97,
   "id": "17102af0",
   "metadata": {},
   "outputs": [
    {
     "data": {
      "text/plain": [
       "{}"
      ]
     },
     "execution_count": 97,
     "metadata": {},
     "output_type": "execute_result"
    }
   ],
   "source": [
    "a= {'pey':10,'Suhyun':90}\n",
    "a.clear()\n",
    "a"
   ]
  },
  {
   "cell_type": "code",
   "execution_count": 98,
   "id": "e1fd705a",
   "metadata": {},
   "outputs": [
    {
     "name": "stdout",
     "output_type": "stream",
     "text": [
      "None\n"
     ]
    }
   ],
   "source": [
    "a= {'pey':10,'Suhyun':90}\n",
    "print(a.get('pee'))\n"
   ]
  },
  {
   "cell_type": "code",
   "execution_count": 99,
   "id": "d564d30d",
   "metadata": {},
   "outputs": [
    {
     "data": {
      "text/plain": [
       "'deport'"
      ]
     },
     "execution_count": 99,
     "metadata": {},
     "output_type": "execute_result"
    }
   ],
   "source": [
    "a.get('x','default')\n"
   ]
  },
  {
   "cell_type": "code",
   "execution_count": 102,
   "id": "6d550cd6",
   "metadata": {},
   "outputs": [
    {
     "data": {
      "text/plain": [
       "False"
      ]
     },
     "execution_count": 102,
     "metadata": {},
     "output_type": "execute_result"
    }
   ],
   "source": [
    "a= {'pey':10,'Suhyun':90}\n",
    "'pey' in a\n",
    "'x' in a \n"
   ]
  },
  {
   "cell_type": "code",
   "execution_count": 104,
   "id": "649a0204",
   "metadata": {},
   "outputs": [
    {
     "data": {
      "text/plain": [
       "True"
      ]
     },
     "execution_count": 104,
     "metadata": {},
     "output_type": "execute_result"
    }
   ],
   "source": [
    "a= ['pey',10,'Suhyun',90]\n",
    "\n",
    "10 in a"
   ]
  },
  {
   "cell_type": "code",
   "execution_count": 105,
   "id": "eb66266d",
   "metadata": {},
   "outputs": [
    {
     "data": {
      "text/plain": [
       "{1, 2, 3}"
      ]
     },
     "execution_count": 105,
     "metadata": {},
     "output_type": "execute_result"
    }
   ],
   "source": [
    "s1= set([1,2,3])\n",
    "s1"
   ]
  },
  {
   "cell_type": "code",
   "execution_count": 107,
   "id": "5bdec332",
   "metadata": {},
   "outputs": [
    {
     "data": {
      "text/plain": [
       "{4, 5, 6}"
      ]
     },
     "execution_count": 107,
     "metadata": {},
     "output_type": "execute_result"
    }
   ],
   "source": [
    "s1= set([1,2,3,4,5,6])\n",
    "s2= set([4,5,6,7,8,9])\n",
    "s1&s2\n",
    "s1.intersection(s2)"
   ]
  },
  {
   "cell_type": "code",
   "execution_count": 108,
   "id": "1753bd43",
   "metadata": {},
   "outputs": [
    {
     "data": {
      "text/plain": [
       "{1, 2, 3, 4, 5, 6, 7, 8, 9}"
      ]
     },
     "execution_count": 108,
     "metadata": {},
     "output_type": "execute_result"
    }
   ],
   "source": [
    "s1|s2"
   ]
  },
  {
   "cell_type": "code",
   "execution_count": 109,
   "id": "152261be",
   "metadata": {},
   "outputs": [
    {
     "data": {
      "text/plain": [
       "{1, 2, 3, 4, 5, 6, 7, 8, 9}"
      ]
     },
     "execution_count": 109,
     "metadata": {},
     "output_type": "execute_result"
    }
   ],
   "source": [
    "s1.union(s2)"
   ]
  },
  {
   "cell_type": "code",
   "execution_count": 110,
   "id": "e5e9fea8",
   "metadata": {},
   "outputs": [
    {
     "data": {
      "text/plain": [
       "{1, 2, 3}"
      ]
     },
     "execution_count": 110,
     "metadata": {},
     "output_type": "execute_result"
    }
   ],
   "source": [
    "s1-s2"
   ]
  },
  {
   "cell_type": "code",
   "execution_count": 111,
   "id": "c7009740",
   "metadata": {},
   "outputs": [
    {
     "data": {
      "text/plain": [
       "{7, 8, 9}"
      ]
     },
     "execution_count": 111,
     "metadata": {},
     "output_type": "execute_result"
    }
   ],
   "source": [
    "s2-s1"
   ]
  },
  {
   "cell_type": "code",
   "execution_count": 112,
   "id": "a217f003",
   "metadata": {},
   "outputs": [
    {
     "data": {
      "text/plain": [
       "{1, 2, 3}"
      ]
     },
     "execution_count": 112,
     "metadata": {},
     "output_type": "execute_result"
    }
   ],
   "source": [
    "s1.difference(s2)"
   ]
  },
  {
   "cell_type": "code",
   "execution_count": 113,
   "id": "83a07531",
   "metadata": {},
   "outputs": [
    {
     "data": {
      "text/plain": [
       "{7, 8, 9}"
      ]
     },
     "execution_count": 113,
     "metadata": {},
     "output_type": "execute_result"
    }
   ],
   "source": [
    "s2.difference(s1)"
   ]
  },
  {
   "cell_type": "code",
   "execution_count": 114,
   "id": "f2dfa7aa",
   "metadata": {},
   "outputs": [
    {
     "data": {
      "text/plain": [
       "set()"
      ]
     },
     "execution_count": 114,
     "metadata": {},
     "output_type": "execute_result"
    }
   ],
   "source": [
    "s1.difference(s1)"
   ]
  },
  {
   "cell_type": "code",
   "execution_count": 120,
   "id": "ed2f1beb",
   "metadata": {},
   "outputs": [
    {
     "data": {
      "text/plain": [
       "{1, 2, 3, 4, 5, 6, 7, 8, 9, 10}"
      ]
     },
     "execution_count": 120,
     "metadata": {},
     "output_type": "execute_result"
    }
   ],
   "source": [
    "s1.add(10)\n",
    "s1.update([7,8,9])\n",
    "s1"
   ]
  },
  {
   "cell_type": "code",
   "execution_count": 126,
   "id": "b08856eb",
   "metadata": {},
   "outputs": [
    {
     "data": {
      "text/plain": [
       "{1, 3, 4, 5, 6, 7, 8, 9, 10}"
      ]
     },
     "execution_count": 126,
     "metadata": {},
     "output_type": "execute_result"
    }
   ],
   "source": [
    "s1"
   ]
  },
  {
   "cell_type": "code",
   "execution_count": 127,
   "id": "dba6aa61",
   "metadata": {},
   "outputs": [
    {
     "data": {
      "text/plain": [
       "True"
      ]
     },
     "execution_count": 127,
     "metadata": {},
     "output_type": "execute_result"
    }
   ],
   "source": [
    "2>1"
   ]
  },
  {
   "cell_type": "code",
   "execution_count": 129,
   "id": "f0b004f6",
   "metadata": {},
   "outputs": [
    {
     "name": "stdout",
     "output_type": "stream",
     "text": [
      "4\n",
      "[1, 2, 3]\n",
      "3\n",
      "[1, 2]\n",
      "2\n",
      "[1]\n",
      "1\n",
      "[]\n"
     ]
    }
   ],
   "source": [
    "a=[1,2,3,4]\n",
    "while a: \n",
    "    print(a.pop())\n",
    "    print(a)"
   ]
  },
  {
   "cell_type": "code",
   "execution_count": 142,
   "id": "147b3a74",
   "metadata": {},
   "outputs": [
    {
     "name": "stdout",
     "output_type": "stream",
     "text": [
      "False\n"
     ]
    }
   ],
   "source": [
    "if1>2:\n",
    "    print(True)\n",
    "else:\n",
    "    print(False)\n",
    "\n",
    "    \n"
   ]
  }
 ],
 "metadata": {
  "kernelspec": {
   "display_name": "Python 3 (ipykernel)",
   "language": "python",
   "name": "python3"
  },
  "language_info": {
   "codemirror_mode": {
    "name": "ipython",
    "version": 3
   },
   "file_extension": ".py",
   "mimetype": "text/x-python",
   "name": "python",
   "nbconvert_exporter": "python",
   "pygments_lexer": "ipython3",
   "version": "3.9.7"
  }
 },
 "nbformat": 4,
 "nbformat_minor": 5
}
