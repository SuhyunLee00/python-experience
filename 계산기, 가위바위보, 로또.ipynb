{
 "cells": [
  {
   "cell_type": "code",
   "execution_count": 2,
   "id": "f1667756",
   "metadata": {},
   "outputs": [
    {
     "name": "stdout",
     "output_type": "stream",
     "text": [
      "1\n",
      "+,-,*,/,:+\n",
      "1\n",
      "결과:1 + 1=2\n",
      "0\n",
      "none\n"
     ]
    }
   ],
   "source": [
    "\n",
    "def plus(a,b):\n",
    "    return a+b\n",
    "def minus(a,b):\n",
    "    return a-b\n",
    "def multi(a,b):\n",
    "    return a*b\n",
    "def divid(a,b):\n",
    "    return a/b\n",
    "\n",
    "while True:\n",
    "    a=int(input())\n",
    "    \n",
    "    if a==0:\n",
    "        print('none')\n",
    "        break\n",
    "        \n",
    "    oper=str(input('+,-,*,/,:'))\n",
    "    b=int(input())\n",
    "    \n",
    "    if oper=='+':\n",
    "        result=plus(a,b)\n",
    "    elif oper=='-':\n",
    "        result=minus(a,b)\n",
    "    elif oper=='*':\n",
    "        result=multi(a,b)\n",
    "    elif oper=='/':\n",
    "        result=divid(a,b)\n",
    "    else:\n",
    "        print(f'{oper}연산자 없음')\n",
    "\n",
    "    print(f'결과:{a} {oper} {b}={result}')\n"
   ]
  },
  {
   "cell_type": "markdown",
   "id": "be7d3846",
   "metadata": {},
   "source": [
    "## a=1234\n",
    "print(a)"
   ]
  },
  {
   "cell_type": "code",
   "execution_count": 4,
   "id": "b9f9a143",
   "metadata": {},
   "outputs": [
    {
     "name": "stdout",
     "output_type": "stream",
     "text": [
      "1\n",
      "6\n",
      "7.0\n",
      "-5.0\n",
      "6.0\n",
      "0.16666666666666666\n"
     ]
    }
   ],
   "source": [
    "a=float(input())\n",
    "b=float(input())\n",
    "\n",
    "def plus(a,b):\n",
    "    answer=a+b\n",
    "    return answer\n",
    "\n",
    "def minus(a,b):\n",
    "    answer=a-b\n",
    "    return answer\n",
    "\n",
    "def multi(a,b):\n",
    "    answer=a*b\n",
    "    return answer\n",
    "\n",
    "def divide(a,b):\n",
    "    answer=a/b\n",
    "    return answer\n",
    "\n",
    "print(plus(a,b))\n",
    "print(minus(a,b))\n",
    "print(multi(a,b))\n",
    "print(divide(a,b))"
   ]
  },
  {
   "cell_type": "code",
   "execution_count": 7,
   "id": "900c2d10",
   "metadata": {},
   "outputs": [
    {
     "name": "stdout",
     "output_type": "stream",
     "text": [
      "숫자를 입력하세요.1\n",
      "사칙연산을 입력하세요.-\n",
      "숫자를 입력하세요.1\n",
      "0.0\n"
     ]
    }
   ],
   "source": [
    "a=float(input(\"숫자를 입력하세요.\"))\n",
    "b=input(\"사칙연산을 입력하세요.\")\n",
    "c=float(input(\"숫자를 입력하세요.\"))\n",
    "\n",
    "def calc(a,b,c):\n",
    "    if b == \"+\":\n",
    "        return(a+c)\n",
    "    elif b == \"-\":\n",
    "        return(a-c)\n",
    "    elif b == \"*\":\n",
    "        return(a*c)\n",
    "    elif b == \"/\":\n",
    "        return(a/c)\n",
    "\n",
    "print(calc(a,b,c))"
   ]
  },
  {
   "cell_type": "code",
   "execution_count": 1,
   "id": "9b72d9cd",
   "metadata": {},
   "outputs": [
    {
     "name": "stdout",
     "output_type": "stream",
     "text": [
      "0.7428890241382696\n"
     ]
    }
   ],
   "source": [
    "from random import random\n",
    "number= random()\n",
    "print(number)"
   ]
  },
  {
   "cell_type": "code",
   "execution_count": 9,
   "id": "e7e9a76a",
   "metadata": {},
   "outputs": [
    {
     "name": "stdout",
     "output_type": "stream",
     "text": [
      "('가위', '바위', '보')\n"
     ]
    }
   ],
   "source": [
    "import random\n",
    "number=('가위','바위','보')\n",
    "print(number)\n"
   ]
  },
  {
   "cell_type": "code",
   "execution_count": 8,
   "id": "378c814b",
   "metadata": {},
   "outputs": [
    {
     "name": "stdout",
     "output_type": "stream",
     "text": [
      "입력:바위\n",
      "컴퓨터 : 바위\n",
      "비겼습니다\n"
     ]
    }
   ],
   "source": [
    "import random\n",
    "\n",
    "Computer= random.choice(['가위','바위','보'])\n",
    "user= input(\"입력:\")\n",
    "print(\"컴퓨터 :\", Computer)\n",
    "\n",
    "if user== '바위' or user== '가위' or user== '보':\n",
    "    if user == Computer:\n",
    "        print('비겼습니다')\n",
    "    elif (user== '바위' and Computer== '가위') or \\\n",
    "        (user== '가위' and Computer== '보') or \\\n",
    "        (user== '보' and Computer== '바위'):\n",
    "\n",
    "        print('이겼습니다')\n",
    "    else:\n",
    "        print('졌습니다')\n",
    "        \n"
   ]
  },
  {
   "cell_type": "raw",
   "id": "41d07a47",
   "metadata": {},
   "source": []
  },
  {
   "cell_type": "code",
   "execution_count": 11,
   "id": "7b4b5d20",
   "metadata": {},
   "outputs": [
    {
     "name": "stdout",
     "output_type": "stream",
     "text": [
      "당첨번호: [3, 11, 14, 16, 23, 30]\n"
     ]
    }
   ],
   "source": [
    "import random\n",
    "\n",
    "lotto=[]\n",
    "\n",
    "while True:\n",
    "    num=random.randrange(1,50)\n",
    "    if lotto.count(num)==0:\n",
    "        lotto.append(num)\n",
    "    if len(lotto)==6:\n",
    "        break\n",
    "\n",
    "lotto.sort()\n",
    "print(\"당첨번호: \", end='')\n",
    "print(lotto)"
   ]
  },
  {
   "cell_type": "code",
   "execution_count": null,
   "id": "cba789b7",
   "metadata": {},
   "outputs": [],
   "source": []
  },
  {
   "cell_type": "code",
   "execution_count": null,
   "id": "b7a09199",
   "metadata": {},
   "outputs": [],
   "source": []
  }
 ],
 "metadata": {
  "kernelspec": {
   "display_name": "Python 3 (ipykernel)",
   "language": "python",
   "name": "python3"
  },
  "language_info": {
   "codemirror_mode": {
    "name": "ipython",
    "version": 3
   },
   "file_extension": ".py",
   "mimetype": "text/x-python",
   "name": "python",
   "nbconvert_exporter": "python",
   "pygments_lexer": "ipython3",
   "version": "3.9.7"
  }
 },
 "nbformat": 4,
 "nbformat_minor": 5
}
