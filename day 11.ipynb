{
 "cells": [
  {
   "cell_type": "code",
   "execution_count": 24,
   "id": "34a87e5c",
   "metadata": {},
   "outputs": [
    {
     "name": "stdout",
     "output_type": "stream",
     "text": [
      "range(0, 101, 2)\n",
      "0  2  4  6  8  10  12  14  16  18  20  22  24  26  28  30  32  34  36  38  40  42  44  46  48  50  52  54  56  58  60  62  64  66  68  70  72  74  76  78  80  82  84  86  88  90  92  94  96  98  100  "
     ]
    }
   ],
   "source": [
    "number= range(0,101,2)\n",
    "print(number)\n",
    "for i in number:\n",
    "    print(i, end='  ')"
   ]
  },
  {
   "cell_type": "code",
   "execution_count": 55,
   "id": "958610c6",
   "metadata": {},
   "outputs": [
    {
     "name": "stdout",
     "output_type": "stream",
     "text": [
      "11 %\n"
     ]
    }
   ],
   "source": [
    "from random import randrange\n",
    "\n",
    "a=0\n",
    "\n",
    "for _ in range(1,101):\n",
    "    value =randrange(11)\n",
    "    if value==10: \n",
    "        \n",
    "        a=a+\n",
    "        1\n",
    "    \n",
    "#     print(value)\n",
    "print(a, '%')"
   ]
  },
  {
   "cell_type": "code",
   "execution_count": 58,
   "id": "ee5b5d7d",
   "metadata": {},
   "outputs": [
    {
     "name": "stdout",
     "output_type": "stream",
     "text": [
      "d-day: 257\n"
     ]
    }
   ],
   "source": [
    "import datetime\n",
    "today= datetime.date.today()\n",
    "target_date = datetime.date(2022, 12, 25)\n",
    "\n",
    "d_day = target_date- today\n",
    "print(f'd-day: {d_day.days}')"
   ]
  },
  {
   "cell_type": "code",
   "execution_count": 61,
   "id": "8aa14a26",
   "metadata": {},
   "outputs": [
    {
     "name": "stdout",
     "output_type": "stream",
     "text": [
      "d-day: 358\n"
     ]
    }
   ],
   "source": [
    "import datetime\n",
    "start_date = datetime.date(2022,1,1)\n",
    "target_date = datetime.date(2022, 12, 25)\n",
    "\n",
    "d_day = target_date- start_date\n",
    "print(f'd-day: {d_day.days}')"
   ]
  },
  {
   "cell_type": "code",
   "execution_count": 71,
   "id": "fd26e896",
   "metadata": {},
   "outputs": [
    {
     "name": "stdout",
     "output_type": "stream",
     "text": [
      "1\n",
      "2\n",
      "3\n",
      "4\n",
      "5\n",
      "6\n",
      "7\n",
      "8\n",
      "9\n",
      "10\n"
     ]
    },
    {
     "data": {
      "text/plain": [
       "<function TextIOWrapper.close()>"
      ]
     },
     "execution_count": 71,
     "metadata": {},
     "output_type": "execute_result"
    }
   ],
   "source": [
    "f= open('새파일1.txt','w')\n",
    "for i in range(1, 11):\n",
    "    data='번째 줄입니다.'\n",
    "    f.write(data)\n",
    "    print(i)\n",
    "f.close"
   ]
  },
  {
   "cell_type": "code",
   "execution_count": null,
   "id": "2696563b",
   "metadata": {},
   "outputs": [],
   "source": []
  }
 ],
 "metadata": {
  "kernelspec": {
   "display_name": "Python 3 (ipykernel)",
   "language": "python",
   "name": "python3"
  },
  "language_info": {
   "codemirror_mode": {
    "name": "ipython",
    "version": 3
   },
   "file_extension": ".py",
   "mimetype": "text/x-python",
   "name": "python",
   "nbconvert_exporter": "python",
   "pygments_lexer": "ipython3",
   "version": "3.9.7"
  }
 },
 "nbformat": 4,
 "nbformat_minor": 5
}
